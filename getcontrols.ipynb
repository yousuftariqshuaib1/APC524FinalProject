{
 "cells": [
  {
   "cell_type": "code",
   "execution_count": 52,
   "metadata": {},
   "outputs": [],
   "source": [
    "import keyboard\n",
    "import numpy as np\n",
    "\n",
    "#maximum control surface deflections - test and correct later\n",
    "#aileron and rudder assumed to be symmetric in travel\n",
    "MAX_ELEV = 2.0\n",
    "MIN_ELEV = 2.0\n",
    "MAX_AIL = 2.0\n",
    "MAX_RUD = 2.0\n",
    "#proportional gain for control input tracking\n",
    "K_P = 0.1\n",
    "\n",
    "def update(control: np.array) -> np.array :\n",
    "    ref_control = np.array([0, 0, 0, 0])\n",
    "    if keyboard.is_pressed(\"w\"):\n",
    "        ref_control[0]= MAX_ELEV\n",
    "    if keyboard.is_pressed(\"s\"):\n",
    "        ref_control[0]= -MIN_ELEV\n",
    "        \n",
    "    if keyboard.is_pressed(\"a\"):\n",
    "        ref_control[0]= MAX_AIL\n",
    "        \n",
    "    if keyboard.is_pressed(\"d\"):\n",
    "        ref_control[0]= -MAX_AIL\n",
    "        \n",
    "    if keyboard.is_pressed(\"q\"):\n",
    "        ref_control[0]= MAX_RUD\n",
    "        \n",
    "    if keyboard.is_pressed(\"e\"):\n",
    "        ref_control[0]= -MAX_RUD\n",
    "    \n",
    "    err = control - ref_control\n",
    "    control = control - err * K_P\n",
    "    return control\n",
    "\n"
   ]
  }
 ],
 "metadata": {
  "kernelspec": {
   "display_name": "Python 3",
   "language": "python",
   "name": "python3"
  },
  "language_info": {
   "codemirror_mode": {
    "name": "ipython",
    "version": 3
   },
   "file_extension": ".py",
   "mimetype": "text/x-python",
   "name": "python",
   "nbconvert_exporter": "python",
   "pygments_lexer": "ipython3",
   "version": "3.10.9"
  },
  "orig_nbformat": 4,
  "vscode": {
   "interpreter": {
    "hash": "c6d88fc2d417d38d3c6e30f264416dce9d9aae60518bf6daf57927d698a3ada2"
   }
  }
 },
 "nbformat": 4,
 "nbformat_minor": 2
}
