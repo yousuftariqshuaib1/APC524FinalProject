{
 "cells": [
  {
   "cell_type": "code",
   "execution_count": 2,
   "metadata": {},
   "outputs": [
    {
     "name": "stdout",
     "output_type": "stream",
     "text": [
      "Overwriting control.py\n"
     ]
    }
   ],
   "source": [
    "%%writefile control.py\n",
    "\n",
    "import keyboard\n",
    "import numpy as np\n",
    "\n",
    "#maximum control surface deflections - test and correct later\n",
    "#aileron and rudder assumed to be symmetric in travel\n",
    "# Units are in degrees\n",
    "MAX_ELEV = 30.0\n",
    "MIN_ELEV = 20.0\n",
    "MAX_AIL = 20.0\n",
    "MAX_RUD = 35.0\n",
    "\n",
    "# Maximum and minimum thrust of plane\n",
    "# Units in newtons\n",
    "MAX_THRUST = 20000.0\n",
    "MIN_THRUST = 0.0\n",
    "\n",
    "#proportional gain for control input tracking\n",
    "K_P_ELEV = 0.1\n",
    "K_P_ELEV_NEG =  0.2\n",
    "K_P_AIL = 0.1\n",
    "K_P_AIL_NEG = 0.2\n",
    "K_P_RUD = 0.1\n",
    "K_P_RUD_NEG = 0.2\n",
    "K_P_THRUST = 10.0\n",
    "\n",
    "def update(control: np.array) -> np.array :\n",
    "    # Elevator Control\n",
    "    if keyboard.is_pressed(\"w\"):\n",
    "        if (control[0] <= MAX_ELEV - K_P_ELEV):\n",
    "            control[0] += K_P_ELEV\n",
    "    elif keyboard.is_pressed(\"s\"):\n",
    "        if (control[0] >= -MIN_ELEV + K_P_ELEV):\n",
    "            control[0] -= K_P_ELEV\n",
    "    else:\n",
    "        if (control[0] <= K_P_ELEV_NEG or control[0] <= -K_P_ELEV_NEG):\n",
    "            control[0] = 0\n",
    "        else:\n",
    "            if (control[0] > 0):\n",
    "                control[0] -= K_P_ELEV_NEG\n",
    "            elif (control[0] < 0):\n",
    "                control[0] += K_P_ELEV_NEG\n",
    "    \n",
    "    # Aileron control\n",
    "    if keyboard.is_pressed(\"a\"):\n",
    "        if (control[1] <= MAX_AIL - K_P_AIL):\n",
    "            control[1] += K_P_AIL\n",
    "    elif keyboard.is_pressed(\"d\"):\n",
    "        if (control[1] >= -MAX_AIL + K_P_AIL):\n",
    "            control[1] -= K_P_AIL\n",
    "    else:\n",
    "        if (control[1] <= K_P_AIL_NEG or control[1] <= -K_P_AIL_NEG):\n",
    "            control[1] = 0\n",
    "        else:\n",
    "            if (control[1] > 0):\n",
    "                control[1] -= K_P_AIL_NEG\n",
    "            elif (control[1] < 0):\n",
    "                control[1] += K_P_AIL_NEG\n",
    "    \n",
    "    # Rudder control\n",
    "    if keyboard.is_pressed(\"q\"):\n",
    "        if (control[2] <= MAX_RUD - K_P_RUD):\n",
    "            control[2] += K_P_RUD\n",
    "    elif keyboard.is_pressed(\"e\"):\n",
    "        if (control[2] >= -MAX_RUD + K_P_RUD):\n",
    "            control[2] -= K_P_RUD\n",
    "    else:\n",
    "        if (control[2] <= K_P_RUD_NEG or control[2] <= -K_P_RUD_NEG):\n",
    "            control[2] = 0\n",
    "        else: \n",
    "            if (control[2] > 0):\n",
    "                control[2] -= K_P_RUD_NEG\n",
    "            elif (control[2] < 0):\n",
    "                control[2] += K_P_RUD_NEG\n",
    "            \n",
    "    # Thrust control\n",
    "    if keyboard.is_pressed(\"UP\"):\n",
    "        if (control[3] <= MAX_THRUST - K_P_THRUST):\n",
    "            control[3] += K_P_THRUST\n",
    "    elif keyboard.is_pressed(\"DOWN\"):\n",
    "        if (control[3] >= MIN_THRUST + K_P_THRUST):\n",
    "            control[3] -= K_P_THRUST\n",
    "            \n",
    "    return control\n"
   ]
  },
  {
   "cell_type": "code",
   "execution_count": null,
   "metadata": {},
   "outputs": [],
   "source": [
    "controller = np.array([0.0,0.0,0.0,0.0])\n",
    "while True:\n",
    "    print(update(controller))"
   ]
  }
 ],
 "metadata": {
  "kernelspec": {
   "display_name": "Python 3 (ipykernel)",
   "language": "python",
   "name": "python3"
  },
  "language_info": {
   "codemirror_mode": {
    "name": "ipython",
    "version": 3
   },
   "file_extension": ".py",
   "mimetype": "text/x-python",
   "name": "python",
   "nbconvert_exporter": "python",
   "pygments_lexer": "ipython3",
   "version": "3.10.6"
  },
  "vscode": {
   "interpreter": {
    "hash": "c6d88fc2d417d38d3c6e30f264416dce9d9aae60518bf6daf57927d698a3ada2"
   }
  }
 },
 "nbformat": 4,
 "nbformat_minor": 4
}
