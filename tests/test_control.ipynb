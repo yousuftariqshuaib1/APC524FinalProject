{
 "cells": [
  {
   "cell_type": "code",
   "execution_count": null,
   "metadata": {},
   "outputs": [],
   "source": [
    "import controlV2\n",
    "import keyboard\n",
    "import pytest\n",
    "\n",
    "#test each control input with and without key pressed\n",
    "#pitch\n",
    "#w\n",
    "\n",
    "test_control_vec = [.7, .5, .5, .5]\n",
    "def test_noinput():\n",
    "    #test case for no user input\n",
    "    assert controlV2.update(test_control_vec) == pytest.approx([.6, .4, .4, .4])\n",
    "\n",
    "def test_w():\n",
    "    #test for w key press\n",
    "    keyboard.press('w')\n",
    "    assert controlV2.update(test_control_vec) == \n",
    "    \n",
    "\n",
    "#s\n",
    "#roll\n",
    "#a\n",
    "#d\n",
    "#yaw\n",
    "#q\n",
    "#e\n",
    "#throttle\n",
    "#up\n",
    "#down\n"
   ]
  },
  {
   "cell_type": "code",
   "execution_count": 2,
   "metadata": {},
   "outputs": [
    {
     "name": "stdout",
     "output_type": "stream",
     "text": [
      "[0.6 0.4 0.4 0.4]\n"
     ]
    }
   ],
   "source": [
    "import controlV2\n",
    "test_vec = [.7, .5, .5, .5]\n",
    "test_vec = controlV2.update(test_vec)\n",
    "print(test_vec)"
   ]
  },
  {
   "cell_type": "code",
   "execution_count": 19,
   "metadata": {},
   "outputs": [
    {
     "name": "stdout",
     "output_type": "stream",
     "text": [
      "[0.2090072 0.0090072 0.0090072 0.0090072]\n"
     ]
    }
   ],
   "source": [
    "import keyboard\n",
    "keyboard.press('s')\n",
    "test_vec = controlV2.update(test_vec)\n",
    "\n",
    "keyboard.release('s')\n",
    "print(test_vec)\n"
   ]
  },
  {
   "cell_type": "code",
   "execution_count": null,
   "metadata": {},
   "outputs": [],
   "source": []
  },
  {
   "cell_type": "code",
   "execution_count": null,
   "metadata": {},
   "outputs": [],
   "source": []
  },
  {
   "cell_type": "code",
   "execution_count": null,
   "metadata": {},
   "outputs": [],
   "source": []
  }
 ],
 "metadata": {
  "kernelspec": {
   "display_name": "Python 3",
   "language": "python",
   "name": "python3"
  },
  "language_info": {
   "codemirror_mode": {
    "name": "ipython",
    "version": 3
   },
   "file_extension": ".py",
   "mimetype": "text/x-python",
   "name": "python",
   "nbconvert_exporter": "python",
   "pygments_lexer": "ipython3",
   "version": "3.10.9"
  },
  "orig_nbformat": 4,
  "vscode": {
   "interpreter": {
    "hash": "c6d88fc2d417d38d3c6e30f264416dce9d9aae60518bf6daf57927d698a3ada2"
   }
  }
 },
 "nbformat": 4,
 "nbformat_minor": 2
}
