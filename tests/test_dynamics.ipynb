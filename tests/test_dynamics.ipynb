{
 "cells": [
  {
   "cell_type": "code",
   "execution_count": 13,
   "id": "8fa8b16f-bed8-48b1-97ec-0b569fcf3e47",
   "metadata": {},
   "outputs": [
    {
     "name": "stdout",
     "output_type": "stream",
     "text": [
      "Writing test_dynamics.py\n"
     ]
    }
   ],
   "source": [
    "%%writefile test_dynamics.py\n",
    "\n",
    "from dynamics import *\n",
    "import numpy as np\n",
    "\n",
    "def test_f():\n",
    "    # Setting up a variety of test states\n",
    "    teststate1 = np.array([0, 0, 0, 0, 0, 0, 0, 0, 0, 0, 0, 0])\n",
    "    teststate2 = np.array([1, 1, 1, 1, 1, 1, 1, 1, 1, 1, 1, 1])\n",
    "    teststate3 = np.random.rand(12)\n",
    "    \n",
    "    # Setting up a variety of test controls\n",
    "    testcontrol1 = np.array([0, 0, 0, 0])\n",
    "    testcontrol2 = np.array([2, 2, 2, 2])\n",
    "    testcontrol3 = np.random.rand(4)\n",
    "    \n",
    "    # Setting up a variety of delta t's\n",
    "    delta_t1 = 0\n",
    "    delta_t2 = 1\n",
    "    delta_t3 = 1.5\n",
    "    \n",
    "    # Ensuring that state doesn't update from delta_t = 0\n",
    "    assert np.array_equal(step(teststate1, testcontrol1, delta_t1), np.zeros(12))\n",
    "    assert np.array_equal(step(teststate2, testcontrol1, delta_t1), teststate2)\n",
    "    assert np.array_equal(step(teststate1, testcontrol2, delta_t1), np.zeros(12))\n",
    "    \n",
    "    # Ensuring that with a zero intial state, state is entirely dependent on control input\n",
    "    assert np.allclose(step(teststate1, testcontrol2, delta_t2), np.matmul(B_MAT, testcontrol2))\n",
    "    assert np.allclose(step(teststate1, testcontrol2, delta_t3), delta_t3 * np.matmul(B_MAT, testcontrol2))\n",
    "    \n",
    "    # Ensuring that with zero control input, the state is entirely dependent on the intial state\n",
    "    assert np.allclose(step(teststate2, testcontrol1, delta_t2), teststate2 + np.matmul(A_MAT, teststate2))\n",
    "    assert np.allclose(step(teststate2, testcontrol1, delta_t3), teststate2 + delta_t3 * np.matmul(A_MAT, teststate2))\n",
    "    \n",
    "    # Ensuring that the control and state work well togther\n",
    "    assert np.allclose(step(teststate2, testcontrol2, delta_t2), teststate2 + np.matmul(A_MAT, teststate2) + np.matmul(B_MAT, testcontrol2))\n",
    "    assert np.allclose(step(teststate2, testcontrol2, delta_t3), teststate2 + delta_t3 \\\n",
    "                      * (np.matmul(A_MAT, teststate2) + np.matmul(B_MAT, testcontrol2)))\n",
    "    assert np.allclose(step(teststate3, testcontrol3, delta_t2), teststate3 + np.matmul(A_MAT, teststate3) + np.matmul(B_MAT, testcontrol3))\n",
    "    assert np.allclose(step(teststate3, testcontrol3, delta_t3), teststate3 + delta_t3 \\\n",
    "                      * (np.matmul(A_MAT, teststate3) + np.matmul(B_MAT, testcontrol3)))\n",
    "    \n"
   ]
  },
  {
   "cell_type": "code",
   "execution_count": 14,
   "id": "2dedf9b4-e0b1-4cb0-8e33-e3963d97b191",
   "metadata": {},
   "outputs": [
    {
     "name": "stdout",
     "output_type": "stream",
     "text": [
      ".\n",
      "1 passed in 0.51s\n"
     ]
    }
   ],
   "source": [
    "import sys\n",
    "\n",
    "!{sys.executable} -m pytest -s -q test_dynamics.py"
   ]
  }
 ],
 "metadata": {
  "kernelspec": {
   "display_name": "Python 3 (ipykernel)",
   "language": "python",
   "name": "python3"
  },
  "language_info": {
   "codemirror_mode": {
    "name": "ipython",
    "version": 3
   },
   "file_extension": ".py",
   "mimetype": "text/x-python",
   "name": "python",
   "nbconvert_exporter": "python",
   "pygments_lexer": "ipython3",
   "version": "3.10.6"
  }
 },
 "nbformat": 4,
 "nbformat_minor": 5
}
