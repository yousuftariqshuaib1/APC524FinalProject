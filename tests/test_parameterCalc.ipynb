{
 "cells": [
  {
   "cell_type": "code",
   "execution_count": 3,
   "id": "976b6855-b017-44ab-999f-9c92b99bd9bc",
   "metadata": {},
   "outputs": [
    {
     "name": "stdout",
     "output_type": "stream",
     "text": [
      "Overwriting test_parameterCalc.py\n"
     ]
    }
   ],
   "source": [
    "%%writefile test_parameterCalc.py\n",
    "\n",
    "from parameterCalc import *\n",
    "import math\n",
    "import pytest\n",
    "\n",
    "# Pytest function\n",
    "def test_temperature():\n",
    "    # Make sure that temperture is being read from table properly\n",
    "    assert get_temperature(1000) == pytest.approx(TEMPERATURE_TABLE[1000])\n",
    "    assert get_temperature(1500) >= TEMPERATURE_TABLE[2000] and get_temperature(1500) <= TEMPERATURE_TABLE[1000]\n",
    "\n",
    "def test_speed_of_sound():\n",
    "    # Make sure speed of sound is being calculating properly\n",
    "    assert get_speed_of_sound(2000) == pytest.approx(math.sqrt(get_temperature(2000) * GAS_CONSTANT * SPECIFIC_HEAT_RATIO))\n",
    "    assert get_speed_of_sound(2532) == pytest.approx(math.sqrt(get_temperature(2532) * GAS_CONSTANT * SPECIFIC_HEAT_RATIO))\n",
    "\n",
    "def test_mach_number():\n",
    "    # Make sure that mach number is being calculated properly\n",
    "    assert get_mach_number(3000, 100) == pytest.approx(100 / get_speed_of_sound(3000))\n",
    "    assert get_mach_number(2523, 56) == pytest.approx(56 / get_speed_of_sound(2523))\n",
    "\n",
    "def test_geopotential():\n",
    "    # Make sure that geopotential altitude is being calculated properly\n",
    "    assert get_geopotential_altitude(4342) == pytest.approx((RADIUS_EARTH * 4342) / (RADIUS_EARTH + 4342))\n",
    "    \n",
    "def test_pressure():\n",
    "    # Make sure that atmospheric pressure is being calculated properly\n",
    "    assert get_pressure(0) == pytest.approx(101325)\n",
    "    assert 89800 <= get_pressure(1000) <= 89950\n",
    "    assert 49400 <= get_pressure(5652) <= 49550\n",
    "    assert get_pressure(11000) == pytest.approx(22632.10)\n",
    "    assert 16500 <= get_pressure(13000) <= 16650\n",
    "    assert 13550 <= get_pressure(14236) <= 13750\n",
    "    \n",
    "def test_density():\n",
    "    # Make sure that density is being calculated properly\n",
    "    assert get_density(8000) == pytest.approx(get_pressure(8000) * MOLAR_MASS / UNI_GAS_CONSTANT / get_temperature(8000))\n",
    "    assert 1.0 <= get_density(1000) <= 1.225\n",
    "    assert 1.2<= get_density(0) <= 1.3\n",
    "\n",
    "def test_dynamic_viscosity():\n",
    "    # Make sure that dynamic viscosity is being calculated properly\n",
    "    assert get_dynamic_viscosity(2321) == pytest.approx(KINEMATIC_VISCOSITY / get_density(2321))\n",
    "\n",
    "def test_dynamic_pressure():\n",
    "    # Make sure that dynamic pressure is being calculated properly\n",
    "    assert get_dynamic_pressure(3421, 123) == pytest.approx(0.5 * get_density(3421) * 123 ** 2)"
   ]
  },
  {
   "cell_type": "code",
   "execution_count": 4,
   "id": "ec507d7c-8706-4fc1-859d-8508f4d4725d",
   "metadata": {},
   "outputs": [
    {
     "name": "stdout",
     "output_type": "stream",
     "text": [
      "........\n",
      "8 passed in 0.03s\n"
     ]
    }
   ],
   "source": [
    "import sys\n",
    "\n",
    "!{sys.executable} -m pytest -s -q test_parameterCalc.py"
   ]
  }
 ],
 "metadata": {
  "kernelspec": {
   "display_name": "Python 3 (ipykernel)",
   "language": "python",
   "name": "python3"
  },
  "language_info": {
   "codemirror_mode": {
    "name": "ipython",
    "version": 3
   },
   "file_extension": ".py",
   "mimetype": "text/x-python",
   "name": "python",
   "nbconvert_exporter": "python",
   "pygments_lexer": "ipython3",
   "version": "3.10.6"
  }
 },
 "nbformat": 4,
 "nbformat_minor": 5
}
