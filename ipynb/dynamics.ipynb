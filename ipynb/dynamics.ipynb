{
 "cells": [
  {
   "cell_type": "code",
   "execution_count": 24,
   "metadata": {},
   "outputs": [
    {
     "name": "stdout",
     "output_type": "stream",
     "text": [
      "Overwriting dynamics.py\n"
     ]
    }
   ],
   "source": [
    "%%writefile dynamics.py\n",
    "import numpy as np \n",
    "from typing import Protocol\n",
    "#Matrices are taken from Flight Dynamics, by Robert Stengel\n",
    "#Chapter 4, p. 296\n",
    "#Linear time-invariant flight model for a business jet\n",
    "\n",
    "#Dynamics matrix A - influence of state on state\n",
    "A_MAT =  np.array([\n",
    "    [ -0.12,      0,  0.096, 0, 0,      0,      0,  -6.45,      0,     0, -9.79,   0], # u\n",
    "    [     0,  -0.16,      0, 0, 0,      0,   6.45,      0, -101.8,  9.79,     0,   0], # v\n",
    "    [  0.12,      0,  -1.28, 0, 0, -0.001,      0,  100.8,      0,     0, -0.62,   0], # w\n",
    "    [   1.0,      0,   0.06, 0, 0,      0,      0,      0,      0,     0,     0,   0], # x\n",
    "    [     0,    1.0,      0, 0, 0,      0,      0,      0,      0, -6.45,     0, 102], # y\n",
    "    [ 0.063,      0,    1.0, 0, 0,      0,      0,      0,      0,     0,  -102,   0], # z\n",
    "    [     0, -0.025,      0, 0, 0,      0,  -1.18,      0,   0.18,     0,     0,   0], # p\n",
    "    [ 0.005,      0, -0.078, 0, 0,      0,      0, -1.279,      0,     0,     0,   0], # q\n",
    "    [     0,  0.017,      0, 0, 0,      0, -0.011,      0, -0.093,     0,     0,   0], # r\n",
    "    [     0,      0,      0, 0, 0,      0,      1,      0,      0,     0,     0,   0], # roll\n",
    "    [     0,      0,      0, 0, 0,      0,      0,      1,      0,     0,     0,   0], # pitch\n",
    "    [     0,      0,      0, 0, 0,      0,      0,      0,  1.002,     0,     0,   0], # yaw\n",
    "])\n",
    "#Control matrix B - influence of control inputs on state\n",
    "\n",
    "# Elevator, Aileron, Rudder, Thrust\n",
    "B_MAT = np.array([\n",
    "    [0.0065,     0,     0, 4.67],\n",
    "    [     0, -0.16,  3.51,    0],\n",
    "    [-13.17,     0,     0,    0],\n",
    "    [     0,     0,     0,    0],\n",
    "    [     0,     0,     0,    0],\n",
    "    [     0,     0,     0,    0],\n",
    "    [     0,  2.31,  0.25,    0],\n",
    "    [ -9.07,     0,     0,    0],\n",
    "    [     0,  0.12, -1.11,    0],\n",
    "    [     0,     0,     0,    0],\n",
    "    [     0,     0,     0,    0],\n",
    "    [     0,     0,     0,    0]\n",
    "])\n",
    "#iterate next state step from x_dot = Ax + Bu\n",
    "def step(state: np.ndarray, control: np.ndarray, dt: float) -> np.ndarray :\n",
    "    state_new = state + (dt * (np.matmul(A_MAT, state) + np.matmul(B_MAT, control)))\n",
    "    return state_new\n",
    "\n"
   ]
  }
 ],
 "metadata": {
  "kernelspec": {
   "display_name": "Python 3 (ipykernel)",
   "language": "python",
   "name": "python3"
  },
  "language_info": {
   "codemirror_mode": {
    "name": "ipython",
    "version": 3
   },
   "file_extension": ".py",
   "mimetype": "text/x-python",
   "name": "python",
   "nbconvert_exporter": "python",
   "pygments_lexer": "ipython3",
   "version": "3.10.6"
  },
  "vscode": {
   "interpreter": {
    "hash": "c6d88fc2d417d38d3c6e30f264416dce9d9aae60518bf6daf57927d698a3ada2"
   }
  }
 },
 "nbformat": 4,
 "nbformat_minor": 4
}
