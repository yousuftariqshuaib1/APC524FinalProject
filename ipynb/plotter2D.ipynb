{
 "cells": [
  {
   "cell_type": "code",
   "execution_count": 113,
   "id": "1eb95edc-c33b-41c1-b9d0-9e1d7f4973fc",
   "metadata": {},
   "outputs": [],
   "source": [
    "import math\n",
    "import numpy as np\n",
    "from PIL import Image\n",
    "\n",
    "def GPS_plotter(state: np.array, plane, background):\n",
    "    background_temp = background.copy()\n",
    "    width_b, height_b = background_temp.size\n",
    "    width_p, height_p = plane.size\n",
    "    \n",
    "    x_pos = int(width_b / 2 + state[3] / 20 - width_p/2)\n",
    "    y_pos = int(height_b / 2 - state[4] / 20 - width_p/2)\n",
    "    \n",
    "    plane_rotated = plane.rotate((state[11]*180/math.pi)-90, expand = 1)\n",
    "    background_temp.paste(plane_rotated, (x_pos,y_pos), plane_rotated)\n",
    "    \n",
    "    return background_temp\n"
   ]
  }
 ],
 "metadata": {
  "kernelspec": {
   "display_name": "Python 3 (ipykernel)",
   "language": "python",
   "name": "python3"
  },
  "language_info": {
   "codemirror_mode": {
    "name": "ipython",
    "version": 3
   },
   "file_extension": ".py",
   "mimetype": "text/x-python",
   "name": "python",
   "nbconvert_exporter": "python",
   "pygments_lexer": "ipython3",
   "version": "3.10.6"
  }
 },
 "nbformat": 4,
 "nbformat_minor": 5
}
