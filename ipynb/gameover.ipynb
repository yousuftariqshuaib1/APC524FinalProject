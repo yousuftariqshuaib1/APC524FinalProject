{
 "cells": [
  {
   "cell_type": "code",
   "execution_count": 1,
   "id": "a0f99009-3f4c-4393-a9cf-27189767480e",
   "metadata": {},
   "outputs": [],
   "source": [
    "import PySimpleGUI as sg\n",
    "import matplotlib\n",
    "import matplotlib.pyplot as plt\n",
    "from matplotlib.backends.backend_tkagg import FigureCanvasTkAgg\n",
    "from PIL import Image, ImageTk\n",
    "import numpy as np\n",
    "\n",
    "def game_over_screen():\n",
    "    first_column = [\n",
    "        [sg.Image(filename=\"\", key='-GAMEOVER-')],\n",
    "        [sg.Button('Exit')]\n",
    "    ]\n",
    "    layout = [\n",
    "        [\n",
    "            sg.Column(first_column),\n",
    "        ]\n",
    "    ]\n",
    "\n",
    "    im = Image.open('../images/gameover.jpg')\n",
    "    window = sg.Window('Intro Screen', layout, finalize=True, resizable=True, element_justification='c')\n",
    "    image = ImageTk.PhotoImage(image=im)\n",
    "    window['-GAMEOVER-'].update(data=image)\n",
    "    \n",
    "    while True:\n",
    "        event, values = window.read()\n",
    "        if event == \"Exit\" or event == sg.WIN_CLOSED:\n",
    "            break\n",
    "    \n",
    "    window.close()\n",
    "\n",
    "    "
   ]
  },
  {
   "cell_type": "code",
   "execution_count": 2,
   "id": "bc8b76a9-b26d-43c4-ba18-ef81cd2efa91",
   "metadata": {},
   "outputs": [],
   "source": [
    "game_over_screen()"
   ]
  },
  {
   "cell_type": "code",
   "execution_count": null,
   "id": "499e4dde-374e-49cd-9249-424572f5b448",
   "metadata": {},
   "outputs": [],
   "source": []
  }
 ],
 "metadata": {
  "kernelspec": {
   "display_name": "Python 3 (ipykernel)",
   "language": "python",
   "name": "python3"
  },
  "language_info": {
   "codemirror_mode": {
    "name": "ipython",
    "version": 3
   },
   "file_extension": ".py",
   "mimetype": "text/x-python",
   "name": "python",
   "nbconvert_exporter": "python",
   "pygments_lexer": "ipython3",
   "version": "3.10.6"
  }
 },
 "nbformat": 4,
 "nbformat_minor": 5
}
