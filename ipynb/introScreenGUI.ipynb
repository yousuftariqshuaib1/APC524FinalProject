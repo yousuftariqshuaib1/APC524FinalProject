{
 "cells": [
  {
   "cell_type": "code",
   "execution_count": 6,
   "id": "08a5fa77-2f6e-4fb1-bb36-6f5c1749032e",
   "metadata": {},
   "outputs": [],
   "source": [
    "import PySimpleGUI as sg\n",
    "import matplotlib\n",
    "import matplotlib.pyplot as plt\n",
    "from matplotlib.backends.backend_tkagg import FigureCanvasTkAgg\n",
    "from PIL import Image, ImageTk\n",
    "import numpy as np\n",
    "\n",
    "# Creates an intro screen using saved image\n",
    "def intro_screen():\n",
    "    first_column = [\n",
    "        [sg.Image(filename=\"\", key='-INTRO-')]\n",
    "    ]\n",
    "    second_column = [\n",
    "        [sg.Text(font=('Helvetica', 12), justification='center', key='-CONTROL-')],\n",
    "        [sg.Button(\"Thomas's Crappy Control Scheme\")],\n",
    "        [sg.Button(\"Yousuf's Amazing Control Scheme\")]\n",
    "    ]\n",
    "    layout = [\n",
    "        [\n",
    "            sg.Column(first_column),\n",
    "            sg.VSeperator(),\n",
    "            sg.Column(second_column)\n",
    "        ]\n",
    "    ]\n",
    "\n",
    "    im = Image.open('../images/intro_screen.png')\n",
    "    window = sg.Window('Intro Screen', layout, finalize=True, resizable=True, element_justification='c')\n",
    "    image = ImageTk.PhotoImage(image=im)\n",
    "    window['-INTRO-'].update(data=image)\n",
    "    window['-CONTROL-'].update(\"\"\"Either use Thomas's proper proprtional crappy\n",
    "    control scheme that doesn't have a sticky thrust\n",
    "    or use Yousuf's amazing control scheme\n",
    "    that does have a sticky thrust\"\"\")\n",
    "    \n",
    "    value = None\n",
    "    while True:\n",
    "        event, values = window.read()\n",
    "        if event == \"Thomas's Crappy Control Scheme\":\n",
    "            value = 0\n",
    "            break\n",
    "        if event == sg.WIN_CLOSED:\n",
    "            break\n",
    "        if event == \"Yousuf's Amazing Control Scheme\":\n",
    "            value = 1\n",
    "            break\n",
    "    \n",
    "    window.close()\n",
    "    \n",
    "    return value"
   ]
  },
  {
   "cell_type": "code",
   "execution_count": 7,
   "id": "48644ba5-1b72-4d38-940e-ad9d0cfb5ab2",
   "metadata": {},
   "outputs": [
    {
     "data": {
      "text/plain": [
       "1"
      ]
     },
     "execution_count": 7,
     "metadata": {},
     "output_type": "execute_result"
    }
   ],
   "source": [
    "intro_screen()"
   ]
  },
  {
   "cell_type": "code",
   "execution_count": null,
   "id": "0d5723e2-e6a7-4e1e-bbac-1d8858ed218f",
   "metadata": {},
   "outputs": [],
   "source": []
  }
 ],
 "metadata": {
  "kernelspec": {
   "display_name": "Python 3 (ipykernel)",
   "language": "python",
   "name": "python3"
  },
  "language_info": {
   "codemirror_mode": {
    "name": "ipython",
    "version": 3
   },
   "file_extension": ".py",
   "mimetype": "text/x-python",
   "name": "python",
   "nbconvert_exporter": "python",
   "pygments_lexer": "ipython3",
   "version": "3.10.6"
  }
 },
 "nbformat": 4,
 "nbformat_minor": 5
}
