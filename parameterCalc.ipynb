{
 "cells": [
  {
   "cell_type": "code",
   "execution_count": 2,
   "id": "95ac1a91-5df6-4fde-beb3-aa0611f7f31d",
   "metadata": {},
   "outputs": [
    {
     "ename": "NameError",
     "evalue": "name 'double' is not defined",
     "output_type": "error",
     "traceback": [
      "\u001b[1;31m---------------------------------------------------------------------------\u001b[0m",
      "\u001b[1;31mNameError\u001b[0m                                 Traceback (most recent call last)",
      "Input \u001b[1;32mIn [2]\u001b[0m, in \u001b[0;36m<cell line: 31>\u001b[1;34m()\u001b[0m\n\u001b[0;32m     28\u001b[0m GAS_CONSTANT \u001b[38;5;241m=\u001b[39m UNI_GAS_CONSTANT \u001b[38;5;241m/\u001b[39m MOLAR_MASS \u001b[38;5;66;03m# J/kgK\u001b[39;00m\n\u001b[0;32m     29\u001b[0m KINEMATIC_VISCOSITY \u001b[38;5;241m=\u001b[39m \u001b[38;5;241m1.48\u001b[39m \u001b[38;5;241m*\u001b[39m \u001b[38;5;241m10\u001b[39m \u001b[38;5;241m*\u001b[39m\u001b[38;5;241m*\u001b[39m \u001b[38;5;241m-\u001b[39m\u001b[38;5;241m4\u001b[39m \u001b[38;5;66;03m# m^2/s\u001b[39;00m\n\u001b[1;32m---> 31\u001b[0m \u001b[38;5;28;01mdef\u001b[39;00m \u001b[38;5;21mget_temperature\u001b[39m(altitude: \u001b[43mdouble\u001b[49m) \u001b[38;5;241m-\u001b[39m\u001b[38;5;241m>\u001b[39m double: \u001b[38;5;66;03m# Kelvin\u001b[39;00m\n\u001b[0;32m     32\u001b[0m     low_alt \u001b[38;5;241m=\u001b[39m \u001b[38;5;28mint\u001b[39m(math\u001b[38;5;241m.\u001b[39mfloor(altitude \u001b[38;5;241m/\u001b[39m \u001b[38;5;241m1000\u001b[39m) \u001b[38;5;241m*\u001b[39m \u001b[38;5;241m1000\u001b[39m)\n\u001b[0;32m     33\u001b[0m     high_alt \u001b[38;5;241m=\u001b[39m \u001b[38;5;28mint\u001b[39m(math\u001b[38;5;241m.\u001b[39mceil(altitude \u001b[38;5;241m/\u001b[39m \u001b[38;5;241m1000\u001b[39m) \u001b[38;5;241m*\u001b[39m \u001b[38;5;241m1000\u001b[39m)\n",
      "\u001b[1;31mNameError\u001b[0m: name 'double' is not defined"
     ]
    }
   ],
   "source": [
    "from typing import Protocol\n",
    "import math\n",
    "\n",
    "# Global Variables\n",
    "SPECIFIC_HEAT_RATIO = 1.4 \n",
    "RADIUS_EARTH = 6367474 # m\n",
    "TEMPERATURE_TABLE = {-2000: 301.15,\n",
    "                     -1000: 294.65,\n",
    "                         0: 288.15,\n",
    "                      1000: 281.65,\n",
    "                      2000: 275.15,\n",
    "                      3000: 268.65,\n",
    "                      4000: 262.15,\n",
    "                      5000: 255.65,\n",
    "                      6000: 249.15,\n",
    "                      7000: 242.65,\n",
    "                      8000: 236.15,\n",
    "                      9000: 229.65,\n",
    "                     10000: 223.15,\n",
    "                     11000: 219.90,\n",
    "                     12000: 216.65,\n",
    "                     13000: 216.65,\n",
    "                     14000: 216.65,\n",
    "                     15000: 216.65}\n",
    "GRAVITY = 9.80665 # m/s^2\n",
    "MOLAR_MASS = 0.0289644 # kg/mol\n",
    "UNI_GAS_CONSTANT = 8.31444598 # J/molK\n",
    "GAS_CONSTANT = UNI_GAS_CONSTANT / MOLAR_MASS # J/kgK\n",
    "KINEMATIC_VISCOSITY = 1.48 * 10 ** -4 # m^2/s\n",
    "\n",
    "def get_temperature(altitude: float) -> float: # Kelvin\n",
    "    low_alt = int(math.floor(altitude / 1000) * 1000)\n",
    "    high_alt = int(math.ceil(altitude / 1000) * 1000)\n",
    "    low_temp = TEMPERATURE_TABLE[low_alt]\n",
    "    high_temp = TEMPERATURE_TABLE[high_alt]\n",
    "    \n",
    "    temperature = low_temp + (altitude - low_alt) * (high_temp - low_temp) / (high_alt - low_alt)\n",
    "    return temperature\n",
    "\n",
    "def get_speed_of_sound(altitude: float) -> float: # m / s\n",
    "    temperature = get_temperature(altitude)\n",
    "    speedOfSound = math.sqrt(temperature * GAS_CONSTANT * SPECIFIC_HEAT_RATIO) \n",
    "    return speedOfSound\n",
    "\n",
    "def get_geopotential_altitude(altitude: float) -> float: # m\n",
    "    geoPotential = (RADIUS_EARTH * altitude) / (RADIUS_EARTH + altitude)\n",
    "    return geoPotential\n",
    "\n",
    "def get_pressure(altitude: float) -> float: # Pa\n",
    "    low_alt = int(math.floor(altitude / 1000) * 1000)\n",
    "    high_alt = int(math.ceil(altitude / 1000) * 1000)\n",
    "    \n",
    "    tempLapseRate = (get_temperature(high_alt) - get_temperature(low_alt))/1000\n",
    "    \n",
    "    if (altitude < 11000):\n",
    "        refPressure = 101325\n",
    "        refAltitude = 0\n",
    "    else:\n",
    "        refPressure = 22632.10\n",
    "        refAltitude = 11000\n",
    "    \n",
    "    refTemp = get_temperature(refAltitude)\n",
    "    pressure = refPressure * ((refTemp + (altitude - refAltitude) * tempLapseRate) / refTemp) ** (-GRAVITY * MOLAR_MASS / UNI_GAS_CONSTANT / tempLapseRate)\n",
    "    \n",
    "    return pressure\n",
    "\n",
    "def get_density(altitude: float) -> float: # kg/m^3\n",
    "    density = get_pressure(altitude) * MOLAR_MASS / UNI_GAS_CONSTANT / get_temperature(altitude)\n",
    "    \n",
    "    return density\n",
    "\n",
    "def get_dynamic_pressure(altitude: float, velocity: float) -> float:\n",
    "    dynamic_pressure = 0.5 * get_density(altitude) * velocity ** 2\n",
    "    return dynamic_pressure\n",
    "\n",
    "def get_dynamic_viscosity(altitude: float) -> float:\n",
    "    dynamic_viscosity = KINEMATIC_VISCOSITY / get_density(altitude)\n",
    "    return dynamic_viscosity\n",
    "\n"
   ]
  },
  {
   "cell_type": "code",
   "execution_count": null,
   "id": "99e46332-ab43-4a7f-92e1-c450c6dbd99a",
   "metadata": {},
   "outputs": [],
   "source": []
  }
 ],
 "metadata": {
  "kernelspec": {
   "display_name": "Python 3 (ipykernel)",
   "language": "python",
   "name": "python3"
  },
  "language_info": {
   "codemirror_mode": {
    "name": "ipython",
    "version": 3
   },
   "file_extension": ".py",
   "mimetype": "text/x-python",
   "name": "python",
   "nbconvert_exporter": "python",
   "pygments_lexer": "ipython3",
   "version": "3.9.12"
  },
  "vscode": {
   "interpreter": {
    "hash": "3e355f6d86693610b69bfac8acab0d2f5c1b1d5ed962a0a191162abe21700f40"
   }
  }
 },
 "nbformat": 4,
 "nbformat_minor": 5
}
