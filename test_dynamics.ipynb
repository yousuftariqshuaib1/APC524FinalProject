{
 "cells": [
  {
   "cell_type": "code",
   "execution_count": null,
   "id": "8fa8b16f-bed8-48b1-97ec-0b569fcf3e47",
   "metadata": {},
   "outputs": [],
   "source": [
    "from dynamics.py import *\n",
    "\n",
    "def test_f():\n",
    "    # Setting up a variety of test states\n",
    "    teststate1 = np.array([0, 0, 0, 0, 0, 0, 0, 0, 0, 0, 0, 0])\n",
    "    teststate2 = np.array([1, 1, 1, 1, 1, 1, 1, 1, 1, 1, 1, 1])\n",
    "    teststate3 = np.random.rand(12)\n",
    "    \n",
    "    # Setting up a variety of test controls\n",
    "    testcontrol1 = np.array([0, 0, 0, 0])\n",
    "    testcontrol2 = np.array([2, 2, 2, 2])\n",
    "    testcontrol3 = np.random.rand(4)\n",
    "    \n",
    "    # Setting up a variety of delta t's\n",
    "    delta_t1 = 0\n",
    "    delta_t2 = 1\n",
    "    delta_t3 = 1.5\n",
    "    \n",
    "    # Ensuring that state doesn't update from delta_t = 0\n",
    "    assert np.array_equal(step(teststate1, testcontrol1, delta_t1), np.zeros(12))\n",
    "    assert np.array_equal(step(teststate2, testcontrol1, delta_t1), teststate2)\n",
    "    assert np.array_equal(step(teststate1, testcontrol2, delta_t1), np.zeros(12))\n",
    "    \n",
    "    # Ensuring that with a zero intial state, state is entirely dependent on control input\n",
    "    assert np.isclose(step(teststate1, testcontrol2, delta_t2), np.matmul(B_MAT, testcontrol2))\n",
    "    assert np.isclose(step(teststate1, testcontrol2, delta_t3), delta_t3 * np.matmul(B_MAT, testcontrol2))\n",
    "    \n",
    "    # Ensuring that with zero control input, the state is entirely dependent on the intial state\n",
    "    assert np.isclose(step(teststate2, testcontrol1, delta_t2), np.matmul(A_MAT, teststate2))\n",
    "    assert np.isclose(step(teststate2, testcontrol1, delta_t3), delta_t3 * np.matmul(A_MAT, teststate2))\n",
    "    \n",
    "    # Ensuring that the control and state work well togther\n",
    "    assert np.isclose(step(teststate2, testcontrol2, delta_t2), np.matmul(A_MAT, teststate2) + np.matmul(B_MAT, testcontrol2))\n",
    "    assert np.isclose(step(teststate2, testcontrol2, delta_t3), delta_t3 \\\n",
    "                      * (np.matmul(A_MAT, teststate2) + np.matmul(B_MAT, testcontrol2)))\n",
    "    assert np.isclose(step(teststate3, testcontrol3, delta_t2),  np.matmul(A_MAT, teststate3) + np.matmul(B_MAT, testcontrol3))\n",
    "    assert np.isclose(step(teststate3, testcontrol3, delta_t3), delta_t3 \\\n",
    "                      * (np.matmul(A_MAT, teststate3) + np.matmul(B_MAT, testcontrol3)))\n",
    "    \n"
   ]
  }
 ],
 "metadata": {
  "kernelspec": {
   "display_name": "Python 3 (ipykernel)",
   "language": "python",
   "name": "python3"
  },
  "language_info": {
   "codemirror_mode": {
    "name": "ipython",
    "version": 3
   },
   "file_extension": ".py",
   "mimetype": "text/x-python",
   "name": "python",
   "nbconvert_exporter": "python",
   "pygments_lexer": "ipython3",
   "version": "3.10.6"
  }
 },
 "nbformat": 4,
 "nbformat_minor": 5
}
