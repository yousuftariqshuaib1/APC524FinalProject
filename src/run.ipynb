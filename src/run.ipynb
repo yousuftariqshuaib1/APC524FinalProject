{
 "cells": [
  {
   "cell_type": "code",
   "execution_count": 2,
   "id": "3c736033-7307-4ad0-8757-281960088942",
   "metadata": {},
   "outputs": [
    {
     "data": {
      "text/plain": [
       "<Figure size 640x480 with 0 Axes>"
      ]
     },
     "metadata": {},
     "output_type": "display_data"
    }
   ],
   "source": [
    "import introScreen\n",
    "import main_gui\n",
    "import gameover\n",
    "import PySimpleGUI\n",
    "import matplotlib.pyplot\n",
    "from matplotlib.backends.backend_tkagg import FigureCanvasTkAgg\n",
    "import cv2\n",
    "import numpy\n",
    "import keyboard\n",
    "from typing import Protocol\n",
    "from PIL import Image, ImageTk\n",
    "from pydub import AudioSegment\n",
    "import math\n",
    "from mpl_toolkits.mplot3d import Axes3D\n",
    "import matplotlib.cm \n",
    "from mpl_toolkits.mplot3d import axes3d\n",
    "from matplotlib.colors import Normalize\n",
    "\n",
    "value = introScreen.intro_screen()\n",
    "if (value is not None):\n",
    "    main_gui.main_GUI(value)\n",
    "    gameover.game_over_screen()"
   ]
  },
  {
   "cell_type": "code",
   "execution_count": null,
   "id": "3dfe6f11-cbf2-4013-9abe-e2fc3afb45d1",
   "metadata": {},
   "outputs": [],
   "source": []
  }
 ],
 "metadata": {
  "kernelspec": {
   "display_name": "Python 3 (ipykernel)",
   "language": "python",
   "name": "python3"
  },
  "language_info": {
   "codemirror_mode": {
    "name": "ipython",
    "version": 3
   },
   "file_extension": ".py",
   "mimetype": "text/x-python",
   "name": "python",
   "nbconvert_exporter": "python",
   "pygments_lexer": "ipython3",
   "version": "3.10.6"
  }
 },
 "nbformat": 4,
 "nbformat_minor": 5
}
