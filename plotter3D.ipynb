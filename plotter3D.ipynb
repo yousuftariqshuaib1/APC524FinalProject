{
 "cells": [
  {
   "cell_type": "code",
   "execution_count": 5,
   "id": "08023776-97e0-44be-ba92-aa54e3506f86",
   "metadata": {},
   "outputs": [],
   "source": [
    "import numpy as np\n",
    "from mpl_toolkits.mplot3d import axes3d\n",
    "from matplotlib.colors import Normalize\n",
    "import matplotlib.pyplot as plt\n",
    "import matplotlib.cm as cm\n",
    "import matplotlib\n",
    "\n",
    "def vector_3D_plotter(state: np.array):\n",
    "    fig = plt.figure()\n",
    "    ax = fig.gca(projection='3d')\n",
    "    \n",
    "    colors = np.array([0, 0.5, 1])\n",
    "    norm = Normalize()\n",
    "    norm.autoscale(colors)\n",
    "    \n",
    "    x = np.array([state[3], state[3], state[3]])\n",
    "    y = np.array([state[4], state[4], state[4]])\n",
    "    z = np.array([state[5], state[5], state[5]])\n",
    "    \n",
    "    u = np.array([state[0], state[6], state[9]])\n",
    "    v = np.array([state[1], state[7], state[10]])\n",
    "    w = np.array([state[2], state[8], state[11]])\n",
    "    \n",
    "    colormap = cm.inferno\n",
    "    \n",
    "    ax.quiver(x, y, z, u, v, w, color=colormap(norm(colors)), length=4000, normalize=True)\n",
    "    ax.set_xlim(-5000.0, 5000.0)\n",
    "    ax.set_ylim(-5000.0, 5000.0)\n",
    "    ax.set_zlim(0, 15000.0)\n",
    "    \n",
    "    plt.savefig('vector3DPlot.jpg')\n",
    "    plt.close(fig)\n",
    "    \n",
    "    "
   ]
  },
  {
   "cell_type": "code",
   "execution_count": 6,
   "id": "0c7c02c7-8aec-4e88-ac20-0eca74ca50b5",
   "metadata": {},
   "outputs": [
    {
     "name": "stderr",
     "output_type": "stream",
     "text": [
      "C:\\Users\\crazy\\AppData\\Local\\Temp\\ipykernel_17056\\74791195.py:10: MatplotlibDeprecationWarning: Calling gca() with keyword arguments was deprecated in Matplotlib 3.4. Starting two minor releases later, gca() will take no keyword arguments. The gca() function should only be used to get the current axes, or if no axes exist, create new axes with default keyword arguments. To create a new axes with non-default arguments, use plt.axes() or plt.subplot().\n",
      "  ax = fig.gca(projection='3d')\n"
     ]
    }
   ],
   "source": [
    "state = np.array([1, 2, 3, 4, 5, 6, 7, 8, 9, 10, 11, 12])\n",
    "\n",
    "vector_3D_plotter(state)"
   ]
  },
  {
   "cell_type": "code",
   "execution_count": null,
   "id": "07581062-617f-482f-ad23-a1281a5eedd7",
   "metadata": {},
   "outputs": [],
   "source": []
  }
 ],
 "metadata": {
  "kernelspec": {
   "display_name": "Python 3 (ipykernel)",
   "language": "python",
   "name": "python3"
  },
  "language_info": {
   "codemirror_mode": {
    "name": "ipython",
    "version": 3
   },
   "file_extension": ".py",
   "mimetype": "text/x-python",
   "name": "python",
   "nbconvert_exporter": "python",
   "pygments_lexer": "ipython3",
   "version": "3.10.6"
  }
 },
 "nbformat": 4,
 "nbformat_minor": 5
}
