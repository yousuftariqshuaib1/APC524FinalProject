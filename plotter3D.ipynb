{
 "cells": [
  {
   "cell_type": "code",
   "execution_count": 4,
   "id": "08023776-97e0-44be-ba92-aa54e3506f86",
   "metadata": {},
   "outputs": [
    {
     "name": "stdout",
     "output_type": "stream",
     "text": [
      "Overwriting plotter3D.py\n"
     ]
    }
   ],
   "source": [
    "%%writefile plotter3D.py\n",
    "import numpy as np\n",
    "from mpl_toolkits.mplot3d import axes3d\n",
    "from matplotlib.colors import Normalize\n",
    "import matplotlib.pyplot as plt\n",
    "import matplotlib.cm as cm\n",
    "import matplotlib\n",
    "\n",
    "def vector_3D_plotter(state: np.array, fig):\n",
    "    \n",
    "    colors = np.array([0, 0.5, 1])\n",
    "    norm = Normalize()\n",
    "    norm.autoscale(colors)\n",
    "    \n",
    "    x = np.array([state[3], state[3], state[3]])\n",
    "    y = np.array([state[4], state[4], state[4]])\n",
    "    z = np.array([state[5], state[5], state[5]])\n",
    "    \n",
    "    u = np.array([state[0], state[6], state[9]])\n",
    "    v = np.array([state[1], state[7], state[10]])\n",
    "    w = np.array([state[2], state[8], state[11]])\n",
    "    \n",
    "    colormap = cm.inferno\n",
    "    \n",
    "    ax3D = fig.add_subplot(projection='3d')\n",
    "    ax3D.quiver(x, y, z, u, v, w, color=colormap(norm(colors)), length=4000, normalize=True)\n",
    "    ax3D.set_xlim(-5000.0, 5000.0)\n",
    "    ax3D.set_ylim(-5000.0, 5000.0)\n",
    "    ax3D.set_zlim(0, 15000.0)\n",
    "    \n",
    "    plt.savefig('images/vector3DPlot.jpg')\n",
    "    plt.clf()\n",
    "    "
   ]
  },
  {
   "cell_type": "code",
   "execution_count": 10,
   "id": "0c7c02c7-8aec-4e88-ac20-0eca74ca50b5",
   "metadata": {},
   "outputs": [],
   "source": [
    "import numpy as np\n",
    "import matplotlib.pyplot as plt\n",
    "import plotter3D\n",
    "\n",
    "fig = plt.figure()\n",
    "ax = fig.add_subplot(projection='3d')\n",
    "\n",
    "state = np.array([1, 2, 3, 4, 5, 6, 7, 8, 9, 10, 11, 12])\n",
    "\n",
    "plotter3D.vector_3D_plotter(state, fig, ax)"
   ]
  },
  {
   "cell_type": "code",
   "execution_count": 11,
   "id": "07581062-617f-482f-ad23-a1281a5eedd7",
   "metadata": {},
   "outputs": [
    {
     "data": {
      "text/plain": [
       "<Figure size 640x480 with 0 Axes>"
      ]
     },
     "metadata": {},
     "output_type": "display_data"
    }
   ],
   "source": [
    "plotter3D.vector_3D_plotter(state, fig, ax)"
   ]
  },
  {
   "cell_type": "code",
   "execution_count": null,
   "id": "194e8bdd-29a6-4994-80e1-8812d306eeae",
   "metadata": {},
   "outputs": [],
   "source": []
  }
 ],
 "metadata": {
  "kernelspec": {
   "display_name": "Python 3 (ipykernel)",
   "language": "python",
   "name": "python3"
  },
  "language_info": {
   "codemirror_mode": {
    "name": "ipython",
    "version": 3
   },
   "file_extension": ".py",
   "mimetype": "text/x-python",
   "name": "python",
   "nbconvert_exporter": "python",
   "pygments_lexer": "ipython3",
   "version": "3.10.6"
  }
 },
 "nbformat": 4,
 "nbformat_minor": 5
}
