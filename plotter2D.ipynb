{
 "cells": [
  {
   "cell_type": "code",
   "execution_count": 84,
   "id": "1eb95edc-c33b-41c1-b9d0-9e1d7f4973fc",
   "metadata": {},
   "outputs": [],
   "source": [
    "import numpy as np\n",
    "import matplotlib.pyplot as plt\n",
    "from matplotlib.offsetbox import OffsetImage, AnnotationBbox\n",
    "from matplotlib.cbook import get_sample_data\n",
    "import cv2\n",
    "\n",
    "def GPS_Plotter(state: np.array, image):\n",
    "    fig, ax = plt.subplots()\n",
    "    height, width = image.shape[:2]\n",
    "    center = (width/2, height/2)\n",
    "    \n",
    "    rotate_matrix = cv2.getRotationMatrix2D(center=center, angle=-state[11], scale=1)\n",
    "    rotated_image = cv2.warpAffine(src=image, M=rotate_matrix, dsize=(width, height))\n",
    "    \n",
    "    im = OffsetImage(rotated_image, zoom=0.05)\n",
    "    \n",
    "    ab = AnnotationBbox(im, (state[3], state[4]), xycoords='data', frameon=False)\n",
    "    ax.add_artist(ab)\n",
    "    ax.set_xlim(-5000.0, 5000.0)\n",
    "    ax.set_ylim(-5000.0, 5000.0)\n",
    "    title = \"Altitude: \"\n",
    "    title = title + str(state[5])\n",
    "    plt.title(title)\n",
    "    \n",
    "    plt.savefig('images/GPSPlot.jpg')\n",
    "    plt.close(fig)\n",
    "    \n",
    "    "
   ]
  },
  {
   "cell_type": "code",
   "execution_count": 85,
   "id": "d54cccee-3a39-41dd-b982-a698e7fefb34",
   "metadata": {},
   "outputs": [],
   "source": [
    "image = plt.imread('images/plane.png')\n",
    "\n",
    "GPS_Plotter(np.array([0,0,0,1000,1000,10000,0,0,0,0,0,270]), image)"
   ]
  }
 ],
 "metadata": {
  "kernelspec": {
   "display_name": "Python 3 (ipykernel)",
   "language": "python",
   "name": "python3"
  },
  "language_info": {
   "codemirror_mode": {
    "name": "ipython",
    "version": 3
   },
   "file_extension": ".py",
   "mimetype": "text/x-python",
   "name": "python",
   "nbconvert_exporter": "python",
   "pygments_lexer": "ipython3",
   "version": "3.10.6"
  }
 },
 "nbformat": 4,
 "nbformat_minor": 5
}
