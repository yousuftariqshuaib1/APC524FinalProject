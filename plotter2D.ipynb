{
 "cells": [
  {
   "cell_type": "code",
   "execution_count": 96,
   "id": "1eb95edc-c33b-41c1-b9d0-9e1d7f4973fc",
   "metadata": {},
   "outputs": [
    {
     "name": "stdout",
     "output_type": "stream",
     "text": [
      "Overwriting plotter2D.py\n"
     ]
    }
   ],
   "source": [
    "%%writefile plotter2D.py\n",
    "\n",
    "import numpy as np\n",
    "from PIL import Image\n",
    "\n",
    "def GPS_plotter(state: np.array, plane, background):\n",
    "    background_temp = background.copy()\n",
    "    width_b, height_b = background_temp.size\n",
    "    width_p, height_p = plane.size\n",
    "    \n",
    "    x_pos = int(width_b / 2 + state[3] / 10 - width_p/2)\n",
    "    y_pos = int(height_b / 2 - state[4] / 10 - width_p/2)\n",
    "    plane_rotated = plane.rotate(state[11], expand = 1)\n",
    "    background_temp.paste(plane_rotated, (x_pos,y_pos), plane_rotated)\n",
    "    \n",
    "    return background_temp"
   ]
  },
  {
   "cell_type": "code",
   "execution_count": 94,
   "id": "d54cccee-3a39-41dd-b982-a698e7fefb34",
   "metadata": {},
   "outputs": [],
   "source": [
    "state = np.array([10, 0, 0, -1000, 1000, 1000, 0, 0, 0, 0, 0, 43])\n",
    "plane_image = Image.open('images/plane.png').convert(\"RGBA\")\n",
    "background_image = Image.open('images/plot2dbackground.jpg').convert(\"RGBA\")\n",
    "newsize = (1000, 1000)\n",
    "background_image = background_image.resize(newsize)\n",
    "plane_image = plane_image.resize((int(plane_image.size[0]*0.1), int(plane_image.size[1]*0.1)))\n",
    "\n",
    "GPS_plotter(state, plane_image, background_image)"
   ]
  },
  {
   "cell_type": "code",
   "execution_count": 33,
   "id": "6754fbff-6bf9-4b28-87ea-b867dff731a9",
   "metadata": {},
   "outputs": [
    {
     "ename": "ValueError",
     "evalue": "operands could not be broadcast together with shapes (554,639,3) (610,870,3) ",
     "output_type": "error",
     "traceback": [
      "\u001b[1;31m---------------------------------------------------------------------------\u001b[0m",
      "\u001b[1;31mValueError\u001b[0m                                Traceback (most recent call last)",
      "Cell \u001b[1;32mIn [33], line 3\u001b[0m\n\u001b[0;32m      1\u001b[0m s_img \u001b[38;5;241m=\u001b[39m cv2\u001b[38;5;241m.\u001b[39mimread(\u001b[38;5;124m\"\u001b[39m\u001b[38;5;124mimages/plane.png\u001b[39m\u001b[38;5;124m\"\u001b[39m)\n\u001b[0;32m      2\u001b[0m l_img \u001b[38;5;241m=\u001b[39m cv2\u001b[38;5;241m.\u001b[39mimread(\u001b[38;5;124m\"\u001b[39m\u001b[38;5;124mimages/plot2dbackground.png\u001b[39m\u001b[38;5;124m\"\u001b[39m)\n\u001b[1;32m----> 3\u001b[0m overlay(l_img, s_img)\n",
      "Cell \u001b[1;32mIn [32], line 9\u001b[0m, in \u001b[0;36moverlay\u001b[1;34m(back, fore)\u001b[0m\n\u001b[0;32m      7\u001b[0m overlay_colors \u001b[38;5;241m=\u001b[39m fore[:, :, :\u001b[38;5;241m2\u001b[39m]\n\u001b[0;32m      8\u001b[0m alpha_mask \u001b[38;5;241m=\u001b[39m np\u001b[38;5;241m.\u001b[39mdstack((alpha_channel, alpha_channel, alpha_channel))\n\u001b[1;32m----> 9\u001b[0m result \u001b[38;5;241m=\u001b[39m \u001b[43mback\u001b[49m\u001b[43m \u001b[49m\u001b[38;5;241;43m*\u001b[39;49m\u001b[43m \u001b[49m\u001b[43m(\u001b[49m\u001b[38;5;241;43m1\u001b[39;49m\u001b[43m \u001b[49m\u001b[38;5;241;43m-\u001b[39;49m\u001b[43m \u001b[49m\u001b[43malpha_mask\u001b[49m\u001b[43m)\u001b[49m \u001b[38;5;241m+\u001b[39m overlay_colors \u001b[38;5;241m*\u001b[39m alpha_mask\n\u001b[0;32m     10\u001b[0m \u001b[38;5;28;01mreturn\u001b[39;00m result\n",
      "\u001b[1;31mValueError\u001b[0m: operands could not be broadcast together with shapes (554,639,3) (610,870,3) "
     ]
    }
   ],
   "source": [
    "s_img = cv2.imread(\"images/plane.png\")\n",
    "l_img = cv2.imread(\"images/plot2dbackground.png\")\n",
    "overlay(l_img, s_img)"
   ]
  },
  {
   "cell_type": "code",
   "execution_count": null,
   "id": "0d733720-8ee7-49f1-98e9-ca8c7604051f",
   "metadata": {},
   "outputs": [],
   "source": []
  }
 ],
 "metadata": {
  "kernelspec": {
   "display_name": "Python 3 (ipykernel)",
   "language": "python",
   "name": "python3"
  },
  "language_info": {
   "codemirror_mode": {
    "name": "ipython",
    "version": 3
   },
   "file_extension": ".py",
   "mimetype": "text/x-python",
   "name": "python",
   "nbconvert_exporter": "python",
   "pygments_lexer": "ipython3",
   "version": "3.10.6"
  }
 },
 "nbformat": 4,
 "nbformat_minor": 5
}
