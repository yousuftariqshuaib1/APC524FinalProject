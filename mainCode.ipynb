{
 "cells": [
  {
   "cell_type": "code",
   "execution_count": 2,
   "id": "269f4f9e-2815-4309-9b56-4d09bc73a589",
   "metadata": {},
   "outputs": [],
   "source": [
    "import PySimpleGUI as sg\n",
    "import matplotlib.pyplot as plt\n",
    "from matplotlib.backends.backend_tkagg import FigureCanvasTkAgg\n",
    "import numpy as np\n",
    "import cv2\n",
    "\n",
    "first_column = [\n",
    "    [sg.Image(filename=\"\", key='-IMAGE1-')],\n",
    "    [sg.HorizontalSeparator()],\n",
    "    [sg.Image(filename=\"\", key='-IMAGE2-')]\n",
    "]\n",
    "\n",
    "second_column = [\n",
    "    [sg.Image(filename=\"\", key='-IMAGE3-')],\n",
    "    [sg.HorizontalSeparator()],\n",
    "    [sg.Image(filename=\"\", key='-IMAGE4-')]\n",
    "]\n",
    "\n",
    "layout = [\n",
    "    [\n",
    "        sg.Column(first_column),\n",
    "        sg.VSeparator(),\n",
    "        sg.Column(second_column),\n",
    "    ]\n",
    "]\n",
    "\n",
    "window = sg.Window(\"Viewer\", layout, resizable=True,)\n",
    "\n",
    "event, values = window.read(timeout=200)\n",
    "\n",
    "img = cv2.imread(\"dumbshit.jpg\")\n",
    "imgbytes = cv2.imencode(\".png\", img)[1].tobytes()\n",
    "window[\"-IMAGE1-\"].update(data=imgbytes)\n",
    "window[\"-IMAGE2-\"].update(data=imgbytes)\n",
    "window[\"-IMAGE3-\"].update(data=imgbytes)\n",
    "window[\"-IMAGE4-\"].update(data=imgbytes)\n",
    "\n",
    "\n",
    "while True:\n",
    "    event, values = window.read(timeout = 10)\n",
    "    if event == sg.WIN_CLOSED:\n",
    "        break\n",
    "        \n",
    "        \n",
    "    plt.scatter(np.random.rand(1,10),np.random.rand(1,10))\n",
    "    plt.savefig('my_plot.png')\n",
    "    plt.clf()\n",
    "    plt.close()\n",
    "    img = cv2.imread(\"my_plot.png\")\n",
    "    imgbytes = cv2.imencode(\".png\", img)[1].tobytes()\n",
    "    window[\"-IMAGE1-\"].update(data=imgbytes)\n",
    "    window[\"-IMAGE2-\"].update(data=imgbytes)\n",
    "\n",
    "\n",
    "window.close()"
   ]
  },
  {
   "cell_type": "code",
   "execution_count": null,
   "id": "1dc34ca7-296d-4eb9-b0d5-ef1ad11d1340",
   "metadata": {},
   "outputs": [],
   "source": []
  }
 ],
 "metadata": {
  "kernelspec": {
   "display_name": "Python 3 (ipykernel)",
   "language": "python",
   "name": "python3"
  },
  "language_info": {
   "codemirror_mode": {
    "name": "ipython",
    "version": 3
   },
   "file_extension": ".py",
   "mimetype": "text/x-python",
   "name": "python",
   "nbconvert_exporter": "python",
   "pygments_lexer": "ipython3",
   "version": "3.10.6"
  }
 },
 "nbformat": 4,
 "nbformat_minor": 5
}
