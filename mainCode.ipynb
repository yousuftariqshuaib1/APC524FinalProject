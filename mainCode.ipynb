{
 "cells": [
  {
   "cell_type": "code",
   "execution_count": 24,
   "id": "269f4f9e-2815-4309-9b56-4d09bc73a589",
   "metadata": {},
   "outputs": [],
   "source": [
    "import PySimpleGUI as sg\n",
    "import matplotlib.pyplot as plt\n",
    "from matplotlib.backends.backend_tkagg import FigureCanvasTkAgg\n",
    "import numpy as np\n",
    "import cv2\n",
    "import horizon\n",
    "import control\n",
    "import dynamics\n",
    "\n",
    "first_column = [\n",
    "    [sg.Image(filename=\"\", key='-IMAGE1-')],\n",
    "    [sg.HorizontalSeparator()],\n",
    "    [sg.Image(filename=\"\", key='-IMAGE2-')]\n",
    "]\n",
    "\n",
    "second_column = [\n",
    "    [sg.Image(filename=\"\", key='-IMAGE3-')],\n",
    "    [sg.HorizontalSeparator()],\n",
    "    [sg.Image(filename=\"\", key='-IMAGE4-')]\n",
    "]\n",
    "\n",
    "layout = [\n",
    "    [\n",
    "        sg.Column(first_column),\n",
    "        sg.VSeparator(),\n",
    "        sg.Column(second_column),\n",
    "    ]\n",
    "]\n",
    "\n",
    "window = sg.Window(\"Viewer\", layout, resizable=True,)\n",
    "\n",
    "event, values = window.read(timeout=200)\n",
    "\n",
    "horiz_base = cv2.imread(\"horizon_base.png\")\n",
    "horiz_outer = cv2.imread(\"horizon_outer.png\", cv2.IMREAD_UNCHANGED)\n",
    "horiz_roll = cv2.imread(\"horizon_roll.png\", cv2.IMREAD_UNCHANGED)\n",
    "horiz_pitch = cv2.imread(\"horizon_pitch.png\", cv2.IMREAD_UNCHANGED)\n",
    "\n",
    "horiz_pitch = cv2.resize(horiz_pitch, None, fx = 0.5, fy = 0.5, interpolation= cv2.INTER_CUBIC)\n",
    "horiz_roll = cv2.resize(horiz_roll, None, fx = 0.5, fy = 0.5, interpolation= cv2.INTER_CUBIC)\n",
    "horiz_base = cv2.resize(horiz_base, None, fx = 0.5, fy = 0.5, interpolation= cv2.INTER_CUBIC)\n",
    "horiz_outer = cv2.resize(horiz_outer, None, fx = 0.5, fy = 0.5, interpolation= cv2.INTER_CUBIC)\n",
    "\n",
    "img = horizon.get(0,0, 1, horiz_base, horiz_outer, horiz_roll, horiz_pitch)\n",
    "\n",
    "\n",
    "\n",
    "imgbytes = cv2.imencode(\".png\", img)[1].tobytes()\n",
    "window[\"-IMAGE1-\"].update(data=imgbytes)\n",
    "window[\"-IMAGE2-\"].update(data=imgbytes)\n",
    "window[\"-IMAGE3-\"].update(data=imgbytes)\n",
    "window[\"-IMAGE4-\"].update(data=imgbytes)\n",
    "\n",
    "\n",
    "state = np.array([10, 0, 0, 0, 0, 0, 0, 0, 0, 1, 1, 1])\n",
    "control_vec = np.array([0,0,0,0])\n",
    "\n",
    "\n",
    "for i in range(1000):\n",
    "    event, values = window.read(timeout = 1)\n",
    "    if event == sg.WIN_CLOSED:\n",
    "        break\n",
    "        \n",
    "    state = dynamics.step(state, control_vec, 0.1)\n",
    "    control_vec = control.update(control_vec)\n",
    "        \n",
    "    plt.scatter(np.random.rand(1,10),np.random.rand(1,10))\n",
    "    plt.savefig('my_plot.png', dpi=50)\n",
    "    plt.clf()\n",
    "    plt.close()\n",
    "    img = cv2.imread(\"my_plot.png\")\n",
    "    imgbytes = cv2.imencode(\".png\", img)[1].tobytes()\n",
    "    window[\"-IMAGE1-\"].update(data=imgbytes)\n",
    "    window[\"-IMAGE2-\"].update(data=imgbytes)\n",
    "\n",
    "    pitch = state[9] * 10\n",
    "    roll = state[10] * 10\n",
    "    \n",
    "    attitude = horizon.get(roll,-pitch, 1, horiz_base, horiz_outer, horiz_roll, horiz_pitch)\n",
    "    img2 = cv2.imencode(\".png\", attitude)[1].tobytes()\n",
    "    window[\"-IMAGE3-\"].update(data=img2)\n",
    "\n",
    "\n",
    "window.close()"
   ]
  },
  {
   "cell_type": "code",
   "execution_count": 6,
   "id": "1dc34ca7-296d-4eb9-b0d5-ef1ad11d1340",
   "metadata": {},
   "outputs": [],
   "source": [
    "window.close()"
   ]
  },
  {
   "cell_type": "code",
   "execution_count": 23,
   "id": "15f74a69",
   "metadata": {},
   "outputs": [
    {
     "data": {
      "text/plain": [
       "(12,)"
      ]
     },
     "execution_count": 23,
     "metadata": {},
     "output_type": "execute_result"
    }
   ],
   "source": [
    "state.shape"
   ]
  },
  {
   "cell_type": "code",
   "execution_count": null,
   "id": "905acd93",
   "metadata": {},
   "outputs": [],
   "source": []
  }
 ],
 "metadata": {
  "kernelspec": {
   "display_name": "Python 3",
   "language": "python",
   "name": "python3"
  },
  "language_info": {
   "codemirror_mode": {
    "name": "ipython",
    "version": 3
   },
   "file_extension": ".py",
   "mimetype": "text/x-python",
   "name": "python",
   "nbconvert_exporter": "python",
   "pygments_lexer": "ipython3",
   "version": "3.10.9"
  },
  "vscode": {
   "interpreter": {
    "hash": "c6d88fc2d417d38d3c6e30f264416dce9d9aae60518bf6daf57927d698a3ada2"
   }
  }
 },
 "nbformat": 4,
 "nbformat_minor": 5
}
